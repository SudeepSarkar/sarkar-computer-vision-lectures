{
  "nbformat": 4,
  "nbformat_minor": 0,
  "metadata": {
    "accelerator": "GPU",
    "kernelspec": {
      "display_name": "Python 3",
      "name": "python3"
    },
    "language_info": {
      "name": "python"
    },
    "colab": {
      "provenance": [],
      "toc_visible": true,
      "collapsed_sections": [
        "3SPENOIgiNbF",
        "VHmqdlvRkQgO",
        "2oewb9NFmogO",
        "N8Yxppe-P8QA",
        "PjuqUenbdAwT"
      ]
    }
  },
  "cells": [
    {
      "cell_type": "markdown",
      "metadata": {
        "id": "view-in-github"
      },
      "source": [
        "<a href=\"https://colab.research.google.com/github/SudeepSarkar/sarkar-computer-vision-lectures/blob/main/CV_Module_5_1__Neural_Networks_Basics_1.ipynb\" target=\"_parent\"><img src=\"https://colab.research.google.com/assets/colab-badge.svg\" alt=\"Open In Colab\"/></a>"
      ]
    },
    {
      "cell_type": "markdown",
      "metadata": {
        "id": "ZbAPDWw3MDwb"
      },
      "source": [
        "# Neural Network Basics 1\n",
        "## (Dive into Deep Learning https://d2l.ai/chapter_linear-networks/index.html)\n",
        "\n",
        "* The material for this notebook is mainly from the Open Source book -- Dive into Deep Learning. I have adapted a few things for the Computer Vision course at the University of South Florida, Tampa.\n",
        "\n",
        "* Some figures are from Richard Szeliski's vision textbook for this course."
      ]
    },
    {
      "cell_type": "markdown",
      "metadata": {
        "id": "5Uz-P8fBbtDD"
      },
      "source": [
        "# Topics covered\n",
        "\n",
        "* You will get introduced to the essential components that go into constructing and training neural networks\n",
        "\n",
        "* You will be introduced to the linear regression problem and how it can be solved using stochastic gradient descent.\n",
        "\n",
        "* You will learn how to backpropagate gradients by hand and apply those gradients to the model parameters\n",
        "\n",
        "\n",
        "**Concepts Learned:** linear regression, model, train, mini-batches, *stochastic* gradient search, epochs, hyperparamters, backpropagation, squared loss function, fully connected layer, python data iterator."
      ]
    },
    {
      "cell_type": "markdown",
      "metadata": {
        "id": "sX45y8hRcv5D"
      },
      "source": [
        "## Code: setup"
      ]
    },
    {
      "cell_type": "code",
      "metadata": {
        "id": "9Lx279YSMDwk",
        "colab": {
          "base_uri": "https://localhost:8080/"
        },
        "outputId": "cc586e8e-72d2-49a1-9204-07c809081f62"
      },
      "source": [
        "!pip install d2l==0.16.2"
      ],
      "execution_count": 1,
      "outputs": [
        {
          "output_type": "stream",
          "name": "stdout",
          "text": [
            "Collecting d2l==0.16.2\n",
            "  Downloading d2l-0.16.2-py3-none-any.whl (77 kB)\n",
            "\u001b[2K     \u001b[90m━━━━━━━━━━━━━━━━━━━━━━━━━━━━━━━━━━━━━━━━\u001b[0m \u001b[32m77.2/77.2 kB\u001b[0m \u001b[31m2.2 MB/s\u001b[0m eta \u001b[36m0:00:00\u001b[0m\n",
            "\u001b[?25hCollecting jupyter (from d2l==0.16.2)\n",
            "  Downloading jupyter-1.0.0-py2.py3-none-any.whl (2.7 kB)\n",
            "Requirement already satisfied: numpy in /usr/local/lib/python3.10/dist-packages (from d2l==0.16.2) (1.25.2)\n",
            "Requirement already satisfied: matplotlib in /usr/local/lib/python3.10/dist-packages (from d2l==0.16.2) (3.7.1)\n",
            "Requirement already satisfied: requests in /usr/local/lib/python3.10/dist-packages (from d2l==0.16.2) (2.31.0)\n",
            "Requirement already satisfied: pandas in /usr/local/lib/python3.10/dist-packages (from d2l==0.16.2) (1.5.3)\n",
            "Requirement already satisfied: notebook in /usr/local/lib/python3.10/dist-packages (from jupyter->d2l==0.16.2) (6.5.5)\n",
            "Collecting qtconsole (from jupyter->d2l==0.16.2)\n",
            "  Downloading qtconsole-5.5.1-py3-none-any.whl (123 kB)\n",
            "\u001b[2K     \u001b[90m━━━━━━━━━━━━━━━━━━━━━━━━━━━━━━━━━━━━━━━━\u001b[0m \u001b[32m123.4/123.4 kB\u001b[0m \u001b[31m8.6 MB/s\u001b[0m eta \u001b[36m0:00:00\u001b[0m\n",
            "\u001b[?25hRequirement already satisfied: jupyter-console in /usr/local/lib/python3.10/dist-packages (from jupyter->d2l==0.16.2) (6.1.0)\n",
            "Requirement already satisfied: nbconvert in /usr/local/lib/python3.10/dist-packages (from jupyter->d2l==0.16.2) (6.5.4)\n",
            "Requirement already satisfied: ipykernel in /usr/local/lib/python3.10/dist-packages (from jupyter->d2l==0.16.2) (5.5.6)\n",
            "Requirement already satisfied: ipywidgets in /usr/local/lib/python3.10/dist-packages (from jupyter->d2l==0.16.2) (7.7.1)\n",
            "Requirement already satisfied: contourpy>=1.0.1 in /usr/local/lib/python3.10/dist-packages (from matplotlib->d2l==0.16.2) (1.2.0)\n",
            "Requirement already satisfied: cycler>=0.10 in /usr/local/lib/python3.10/dist-packages (from matplotlib->d2l==0.16.2) (0.12.1)\n",
            "Requirement already satisfied: fonttools>=4.22.0 in /usr/local/lib/python3.10/dist-packages (from matplotlib->d2l==0.16.2) (4.48.1)\n",
            "Requirement already satisfied: kiwisolver>=1.0.1 in /usr/local/lib/python3.10/dist-packages (from matplotlib->d2l==0.16.2) (1.4.5)\n",
            "Requirement already satisfied: packaging>=20.0 in /usr/local/lib/python3.10/dist-packages (from matplotlib->d2l==0.16.2) (23.2)\n",
            "Requirement already satisfied: pillow>=6.2.0 in /usr/local/lib/python3.10/dist-packages (from matplotlib->d2l==0.16.2) (9.4.0)\n",
            "Requirement already satisfied: pyparsing>=2.3.1 in /usr/local/lib/python3.10/dist-packages (from matplotlib->d2l==0.16.2) (3.1.1)\n",
            "Requirement already satisfied: python-dateutil>=2.7 in /usr/local/lib/python3.10/dist-packages (from matplotlib->d2l==0.16.2) (2.8.2)\n",
            "Requirement already satisfied: pytz>=2020.1 in /usr/local/lib/python3.10/dist-packages (from pandas->d2l==0.16.2) (2023.4)\n",
            "Requirement already satisfied: charset-normalizer<4,>=2 in /usr/local/lib/python3.10/dist-packages (from requests->d2l==0.16.2) (3.3.2)\n",
            "Requirement already satisfied: idna<4,>=2.5 in /usr/local/lib/python3.10/dist-packages (from requests->d2l==0.16.2) (3.6)\n",
            "Requirement already satisfied: urllib3<3,>=1.21.1 in /usr/local/lib/python3.10/dist-packages (from requests->d2l==0.16.2) (2.0.7)\n",
            "Requirement already satisfied: certifi>=2017.4.17 in /usr/local/lib/python3.10/dist-packages (from requests->d2l==0.16.2) (2024.2.2)\n",
            "Requirement already satisfied: six>=1.5 in /usr/local/lib/python3.10/dist-packages (from python-dateutil>=2.7->matplotlib->d2l==0.16.2) (1.16.0)\n",
            "Requirement already satisfied: ipython-genutils in /usr/local/lib/python3.10/dist-packages (from ipykernel->jupyter->d2l==0.16.2) (0.2.0)\n",
            "Requirement already satisfied: ipython>=5.0.0 in /usr/local/lib/python3.10/dist-packages (from ipykernel->jupyter->d2l==0.16.2) (7.34.0)\n",
            "Requirement already satisfied: traitlets>=4.1.0 in /usr/local/lib/python3.10/dist-packages (from ipykernel->jupyter->d2l==0.16.2) (5.7.1)\n",
            "Requirement already satisfied: jupyter-client in /usr/local/lib/python3.10/dist-packages (from ipykernel->jupyter->d2l==0.16.2) (6.1.12)\n",
            "Requirement already satisfied: tornado>=4.2 in /usr/local/lib/python3.10/dist-packages (from ipykernel->jupyter->d2l==0.16.2) (6.3.2)\n",
            "Requirement already satisfied: widgetsnbextension~=3.6.0 in /usr/local/lib/python3.10/dist-packages (from ipywidgets->jupyter->d2l==0.16.2) (3.6.6)\n",
            "Requirement already satisfied: jupyterlab-widgets>=1.0.0 in /usr/local/lib/python3.10/dist-packages (from ipywidgets->jupyter->d2l==0.16.2) (3.0.10)\n",
            "Requirement already satisfied: prompt-toolkit!=3.0.0,!=3.0.1,<3.1.0,>=2.0.0 in /usr/local/lib/python3.10/dist-packages (from jupyter-console->jupyter->d2l==0.16.2) (3.0.43)\n",
            "Requirement already satisfied: pygments in /usr/local/lib/python3.10/dist-packages (from jupyter-console->jupyter->d2l==0.16.2) (2.16.1)\n",
            "Requirement already satisfied: lxml in /usr/local/lib/python3.10/dist-packages (from nbconvert->jupyter->d2l==0.16.2) (4.9.4)\n",
            "Requirement already satisfied: beautifulsoup4 in /usr/local/lib/python3.10/dist-packages (from nbconvert->jupyter->d2l==0.16.2) (4.12.3)\n",
            "Requirement already satisfied: bleach in /usr/local/lib/python3.10/dist-packages (from nbconvert->jupyter->d2l==0.16.2) (6.1.0)\n",
            "Requirement already satisfied: defusedxml in /usr/local/lib/python3.10/dist-packages (from nbconvert->jupyter->d2l==0.16.2) (0.7.1)\n",
            "Requirement already satisfied: entrypoints>=0.2.2 in /usr/local/lib/python3.10/dist-packages (from nbconvert->jupyter->d2l==0.16.2) (0.4)\n",
            "Requirement already satisfied: jinja2>=3.0 in /usr/local/lib/python3.10/dist-packages (from nbconvert->jupyter->d2l==0.16.2) (3.1.3)\n",
            "Requirement already satisfied: jupyter-core>=4.7 in /usr/local/lib/python3.10/dist-packages (from nbconvert->jupyter->d2l==0.16.2) (5.7.1)\n",
            "Requirement already satisfied: jupyterlab-pygments in /usr/local/lib/python3.10/dist-packages (from nbconvert->jupyter->d2l==0.16.2) (0.3.0)\n",
            "Requirement already satisfied: MarkupSafe>=2.0 in /usr/local/lib/python3.10/dist-packages (from nbconvert->jupyter->d2l==0.16.2) (2.1.5)\n",
            "Requirement already satisfied: mistune<2,>=0.8.1 in /usr/local/lib/python3.10/dist-packages (from nbconvert->jupyter->d2l==0.16.2) (0.8.4)\n",
            "Requirement already satisfied: nbclient>=0.5.0 in /usr/local/lib/python3.10/dist-packages (from nbconvert->jupyter->d2l==0.16.2) (0.9.0)\n",
            "Requirement already satisfied: nbformat>=5.1 in /usr/local/lib/python3.10/dist-packages (from nbconvert->jupyter->d2l==0.16.2) (5.9.2)\n",
            "Requirement already satisfied: pandocfilters>=1.4.1 in /usr/local/lib/python3.10/dist-packages (from nbconvert->jupyter->d2l==0.16.2) (1.5.1)\n",
            "Requirement already satisfied: tinycss2 in /usr/local/lib/python3.10/dist-packages (from nbconvert->jupyter->d2l==0.16.2) (1.2.1)\n",
            "Requirement already satisfied: pyzmq<25,>=17 in /usr/local/lib/python3.10/dist-packages (from notebook->jupyter->d2l==0.16.2) (23.2.1)\n",
            "Requirement already satisfied: argon2-cffi in /usr/local/lib/python3.10/dist-packages (from notebook->jupyter->d2l==0.16.2) (23.1.0)\n",
            "Requirement already satisfied: nest-asyncio>=1.5 in /usr/local/lib/python3.10/dist-packages (from notebook->jupyter->d2l==0.16.2) (1.6.0)\n",
            "Requirement already satisfied: Send2Trash>=1.8.0 in /usr/local/lib/python3.10/dist-packages (from notebook->jupyter->d2l==0.16.2) (1.8.2)\n",
            "Requirement already satisfied: terminado>=0.8.3 in /usr/local/lib/python3.10/dist-packages (from notebook->jupyter->d2l==0.16.2) (0.18.0)\n",
            "Requirement already satisfied: prometheus-client in /usr/local/lib/python3.10/dist-packages (from notebook->jupyter->d2l==0.16.2) (0.19.0)\n",
            "Requirement already satisfied: nbclassic>=0.4.7 in /usr/local/lib/python3.10/dist-packages (from notebook->jupyter->d2l==0.16.2) (1.0.0)\n",
            "Collecting qtpy>=2.4.0 (from qtconsole->jupyter->d2l==0.16.2)\n",
            "  Downloading QtPy-2.4.1-py3-none-any.whl (93 kB)\n",
            "\u001b[2K     \u001b[90m━━━━━━━━━━━━━━━━━━━━━━━━━━━━━━━━━━━━━━━━\u001b[0m \u001b[32m93.5/93.5 kB\u001b[0m \u001b[31m6.4 MB/s\u001b[0m eta \u001b[36m0:00:00\u001b[0m\n",
            "\u001b[?25hRequirement already satisfied: setuptools>=18.5 in /usr/local/lib/python3.10/dist-packages (from ipython>=5.0.0->ipykernel->jupyter->d2l==0.16.2) (67.7.2)\n",
            "Collecting jedi>=0.16 (from ipython>=5.0.0->ipykernel->jupyter->d2l==0.16.2)\n",
            "  Downloading jedi-0.19.1-py2.py3-none-any.whl (1.6 MB)\n",
            "\u001b[2K     \u001b[90m━━━━━━━━━━━━━━━━━━━━━━━━━━━━━━━━━━━━━━━━\u001b[0m \u001b[32m1.6/1.6 MB\u001b[0m \u001b[31m10.5 MB/s\u001b[0m eta \u001b[36m0:00:00\u001b[0m\n",
            "\u001b[?25hRequirement already satisfied: decorator in /usr/local/lib/python3.10/dist-packages (from ipython>=5.0.0->ipykernel->jupyter->d2l==0.16.2) (4.4.2)\n",
            "Requirement already satisfied: pickleshare in /usr/local/lib/python3.10/dist-packages (from ipython>=5.0.0->ipykernel->jupyter->d2l==0.16.2) (0.7.5)\n",
            "Requirement already satisfied: backcall in /usr/local/lib/python3.10/dist-packages (from ipython>=5.0.0->ipykernel->jupyter->d2l==0.16.2) (0.2.0)\n",
            "Requirement already satisfied: matplotlib-inline in /usr/local/lib/python3.10/dist-packages (from ipython>=5.0.0->ipykernel->jupyter->d2l==0.16.2) (0.1.6)\n",
            "Requirement already satisfied: pexpect>4.3 in /usr/local/lib/python3.10/dist-packages (from ipython>=5.0.0->ipykernel->jupyter->d2l==0.16.2) (4.9.0)\n",
            "Requirement already satisfied: platformdirs>=2.5 in /usr/local/lib/python3.10/dist-packages (from jupyter-core>=4.7->nbconvert->jupyter->d2l==0.16.2) (4.2.0)\n",
            "Requirement already satisfied: jupyter-server>=1.8 in /usr/local/lib/python3.10/dist-packages (from nbclassic>=0.4.7->notebook->jupyter->d2l==0.16.2) (1.24.0)\n",
            "Requirement already satisfied: notebook-shim>=0.2.3 in /usr/local/lib/python3.10/dist-packages (from nbclassic>=0.4.7->notebook->jupyter->d2l==0.16.2) (0.2.3)\n",
            "Requirement already satisfied: fastjsonschema in /usr/local/lib/python3.10/dist-packages (from nbformat>=5.1->nbconvert->jupyter->d2l==0.16.2) (2.19.1)\n",
            "Requirement already satisfied: jsonschema>=2.6 in /usr/local/lib/python3.10/dist-packages (from nbformat>=5.1->nbconvert->jupyter->d2l==0.16.2) (4.19.2)\n",
            "Requirement already satisfied: wcwidth in /usr/local/lib/python3.10/dist-packages (from prompt-toolkit!=3.0.0,!=3.0.1,<3.1.0,>=2.0.0->jupyter-console->jupyter->d2l==0.16.2) (0.2.13)\n",
            "Requirement already satisfied: ptyprocess in /usr/local/lib/python3.10/dist-packages (from terminado>=0.8.3->notebook->jupyter->d2l==0.16.2) (0.7.0)\n",
            "Requirement already satisfied: argon2-cffi-bindings in /usr/local/lib/python3.10/dist-packages (from argon2-cffi->notebook->jupyter->d2l==0.16.2) (21.2.0)\n",
            "Requirement already satisfied: soupsieve>1.2 in /usr/local/lib/python3.10/dist-packages (from beautifulsoup4->nbconvert->jupyter->d2l==0.16.2) (2.5)\n",
            "Requirement already satisfied: webencodings in /usr/local/lib/python3.10/dist-packages (from bleach->nbconvert->jupyter->d2l==0.16.2) (0.5.1)\n",
            "Requirement already satisfied: parso<0.9.0,>=0.8.3 in /usr/local/lib/python3.10/dist-packages (from jedi>=0.16->ipython>=5.0.0->ipykernel->jupyter->d2l==0.16.2) (0.8.3)\n",
            "Requirement already satisfied: attrs>=22.2.0 in /usr/local/lib/python3.10/dist-packages (from jsonschema>=2.6->nbformat>=5.1->nbconvert->jupyter->d2l==0.16.2) (23.2.0)\n",
            "Requirement already satisfied: jsonschema-specifications>=2023.03.6 in /usr/local/lib/python3.10/dist-packages (from jsonschema>=2.6->nbformat>=5.1->nbconvert->jupyter->d2l==0.16.2) (2023.12.1)\n",
            "Requirement already satisfied: referencing>=0.28.4 in /usr/local/lib/python3.10/dist-packages (from jsonschema>=2.6->nbformat>=5.1->nbconvert->jupyter->d2l==0.16.2) (0.33.0)\n",
            "Requirement already satisfied: rpds-py>=0.7.1 in /usr/local/lib/python3.10/dist-packages (from jsonschema>=2.6->nbformat>=5.1->nbconvert->jupyter->d2l==0.16.2) (0.17.1)\n",
            "Requirement already satisfied: anyio<4,>=3.1.0 in /usr/local/lib/python3.10/dist-packages (from jupyter-server>=1.8->nbclassic>=0.4.7->notebook->jupyter->d2l==0.16.2) (3.7.1)\n",
            "Requirement already satisfied: websocket-client in /usr/local/lib/python3.10/dist-packages (from jupyter-server>=1.8->nbclassic>=0.4.7->notebook->jupyter->d2l==0.16.2) (1.7.0)\n",
            "Requirement already satisfied: cffi>=1.0.1 in /usr/local/lib/python3.10/dist-packages (from argon2-cffi-bindings->argon2-cffi->notebook->jupyter->d2l==0.16.2) (1.16.0)\n",
            "Requirement already satisfied: sniffio>=1.1 in /usr/local/lib/python3.10/dist-packages (from anyio<4,>=3.1.0->jupyter-server>=1.8->nbclassic>=0.4.7->notebook->jupyter->d2l==0.16.2) (1.3.0)\n",
            "Requirement already satisfied: exceptiongroup in /usr/local/lib/python3.10/dist-packages (from anyio<4,>=3.1.0->jupyter-server>=1.8->nbclassic>=0.4.7->notebook->jupyter->d2l==0.16.2) (1.2.0)\n",
            "Requirement already satisfied: pycparser in /usr/local/lib/python3.10/dist-packages (from cffi>=1.0.1->argon2-cffi-bindings->argon2-cffi->notebook->jupyter->d2l==0.16.2) (2.21)\n",
            "Installing collected packages: qtpy, jedi, qtconsole, jupyter, d2l\n",
            "Successfully installed d2l-0.16.2 jedi-0.19.1 jupyter-1.0.0 qtconsole-5.5.1 qtpy-2.4.1\n"
          ]
        }
      ]
    },
    {
      "cell_type": "code",
      "metadata": {
        "origin_pos": 2,
        "tab": [
          "pytorch"
        ],
        "id": "iL0wRD35MDwo"
      },
      "source": [
        "import matplotlib.pyplot as plt\n",
        "import torch, torchvision\n",
        "import torch.nn as nn\n",
        "import torch.nn.functional as F"
      ],
      "execution_count": 2,
      "outputs": []
    },
    {
      "cell_type": "markdown",
      "metadata": {
        "id": "FR3moTlMllHM"
      },
      "source": [
        "# Linear Regression\n",
        "\n",
        "* *Regression* refers to a set of methods for modeling the relationship between one or more **independent** variables and a **dependent** variable or the **predicted** variable.\n",
        "\n",
        "* Examples: local images features (e.g., color values) to label objects in images;  video to label action type;  face image to label emotions\n",
        "\n",
        "\n",
        "* We will implement the entire method from scratch, including\n",
        "\n",
        "    1. the data pipeline,\n",
        "    2. the model,\n",
        "    3. the loss function, and\n",
        "    4. the minibatch stochastic gradient descent optimizer.\n",
        "\n",
        "* For now, we will rely only on tensors and auto differentiation. Afterward, we will introduce a more straightforward implementation, taking advantage of the bells and whistles of deep learning frameworks.\n"
      ]
    },
    {
      "cell_type": "markdown",
      "metadata": {
        "id": "6ZheEvSMrJsV"
      },
      "source": [
        "## Generating the Dataset\n",
        "\n",
        "* We construct an artificial dataset according to a linear model with additive noise.\n",
        "\n",
        "* Our task will be to recover this model's parameters using the finite set of examples in our dataset.\n",
        "\n",
        "* In the following code snippet, we generate a dataset, $\\mathbf{X}$, containing 1000 examples, each consisting of 2 features sampled from a standard normal distribution. Thus our synthetic dataset will be a $1000 \\times 2$ matrix.\n",
        "\n",
        "* This input data is transformed linearly using\n",
        "\n",
        "\\begin{equation}\n",
        "\\mathbf{y}= \\mathbf{X} \\mathbf{w} + b + \\mathbf\\epsilon\n",
        "\\end{equation}\n",
        "\n",
        "* $\\mathbf{w} = [2, -3.4]^\\top$ and $b = 4.2$,\n",
        "and $\\epsilon$ captures potential measurement errors on the features and labels.\n",
        "\n",
        "* We will assume that the standard assumptions hold and thus\n",
        "that $\\epsilon$ obeys a normal distribution with a mean of 0.\n",
        "    * To make our problem easy, we will set its standard deviation to 0.01.\n"
      ]
    },
    {
      "cell_type": "markdown",
      "metadata": {
        "id": "3crxqNpQ4enq"
      },
      "source": [
        "###Code: `generate_synthetic_data`"
      ]
    },
    {
      "cell_type": "code",
      "metadata": {
        "id": "DXeMz5634duL"
      },
      "source": [
        "def generate_synthetic_data (w, b, num_examples):\n",
        "    \"\"\"Generate y = Xw + b + noise.\"\"\"\n",
        "    X = torch.normal(0, 1, (num_examples, len(w)))\n",
        "    y = torch.matmul(X, w) + b\n",
        "    y += torch.normal(0, 0.01, y.shape)\n",
        "    return X, y.reshape((-1, 1))\n",
        "\n",
        "true_w = torch.tensor([2, -3.4])\n",
        "true_b = 4.2\n",
        "features, labels = generate_synthetic_data (true_w, true_b, 1000)"
      ],
      "execution_count": 3,
      "outputs": []
    },
    {
      "cell_type": "code",
      "source": [
        "features.size()"
      ],
      "metadata": {
        "id": "VGgJmrpzAe0F",
        "outputId": "a308ecd2-9ae6-414d-f000-859b9f7a72f6",
        "colab": {
          "base_uri": "https://localhost:8080/"
        }
      },
      "execution_count": 4,
      "outputs": [
        {
          "output_type": "execute_result",
          "data": {
            "text/plain": [
              "torch.Size([1000, 2])"
            ]
          },
          "metadata": {},
          "execution_count": 4
        }
      ]
    },
    {
      "cell_type": "markdown",
      "metadata": {
        "origin_pos": 8,
        "id": "k9pAKYylleRa"
      },
      "source": [
        "* **Note that each row in `features` consists of a 2-dimensional data example and that each row in `labels` consists of a 1-dimensional label value (a scalar).**\n"
      ]
    },
    {
      "cell_type": "code",
      "metadata": {
        "origin_pos": 9,
        "tab": [
          "pytorch"
        ],
        "id": "DotgEvroleRc",
        "colab": {
          "base_uri": "https://localhost:8080/"
        },
        "outputId": "d4fdd846-720b-4a89-fbb8-aadacca383c9"
      },
      "source": [
        "print('First 10 features:\\n', features[1:10,:], '\\nFirst 10 labels:\\n', labels[1:10])"
      ],
      "execution_count": 5,
      "outputs": [
        {
          "output_type": "stream",
          "name": "stdout",
          "text": [
            "First 10 features:\n",
            " tensor([[ 1.3333,  0.6215],\n",
            "        [ 0.0783,  0.8594],\n",
            "        [-0.7268,  0.2376],\n",
            "        [ 0.5259, -1.0226],\n",
            "        [ 1.2576,  0.1750],\n",
            "        [-0.1084,  0.3516],\n",
            "        [ 0.0584,  0.3716],\n",
            "        [-2.5363, -0.6872],\n",
            "        [ 1.5429,  1.8232]]) \n",
            "First 10 labels:\n",
            " tensor([[4.7523],\n",
            "        [1.4284],\n",
            "        [1.9417],\n",
            "        [8.7313],\n",
            "        [6.1190],\n",
            "        [2.7856],\n",
            "        [3.0543],\n",
            "        [1.4657],\n",
            "        [1.0814]])\n"
          ]
        }
      ]
    },
    {
      "cell_type": "markdown",
      "metadata": {
        "origin_pos": 10,
        "id": "UK0wmpQkleRd"
      },
      "source": [
        "* **Observe the linear correlation between the input and the output.**\n"
      ]
    },
    {
      "cell_type": "code",
      "metadata": {
        "origin_pos": 11,
        "tab": [
          "pytorch"
        ],
        "id": "rrAF-IArleRe",
        "colab": {
          "base_uri": "https://localhost:8080/",
          "height": 465
        },
        "outputId": "62f2cef9-b35a-4277-ba7f-0e0d0895d4ae"
      },
      "source": [
        "fig, ax = plt.subplots(nrows=1, ncols=2)\n",
        "fig.set_size_inches (10, 5)\n",
        "\n",
        "ax[0].scatter(features[:, 0].detach().numpy(),\n",
        "                labels.detach().numpy(), c='b')\n",
        "ax[0].set_xlabel('Dimension 0 of input')\n",
        "ax[0].set_ylabel('Output label')\n",
        "\n",
        "ax[1].scatter(features[:, 1].detach().numpy(),\n",
        "                labels.detach().numpy(), c='r')\n",
        "ax[1].set_xlabel('Dimension 1 of input')\n",
        "ax[1].set_ylabel('Output label');"
      ],
      "execution_count": 6,
      "outputs": [
        {
          "output_type": "display_data",
          "data": {
            "text/plain": [
              "<Figure size 1000x500 with 2 Axes>"
            ],
            "image/png": "[encoded data removed]"
          },
          "metadata": {}
        }
      ]
    },
    {
      "cell_type": "markdown",
      "metadata": {
        "origin_pos": 12,
        "id": "vQSl67GWleRf"
      },
      "source": [
        "## Reading the Dataset\n",
        "\n",
        "* Estimating the linear model parameters from the training data involve iterations over the dataset.\n",
        "\n",
        "* Recall how **gradient descent** or Newton's method (with Hessian) worked for 2D perspective transformation (homography) estimation.\n",
        "\n",
        "    * At each iteration, we computed a gradient value based on the **entire** dataset.\n",
        "\n",
        "* Here, we adopt **stochastic** gradient descent, which works well in practice.\n",
        "\n",
        "    * Instead of considering the entire dataset at each iteration, we\n",
        "form many subsets of the data and use the subsets to update our model, one at a time.\n",
        "\n",
        "* We break the dataset into **mini-batches**, each consisting of **batch size** number of data samples. Each minibatch consists of a tuple of input features and labels.\n",
        "\n",
        "    * At each iteration, we compute the gradient based on one minibatch at a time.\n",
        "\n",
        "    * Updates from the different subsets of the data are randomly varying, which gives its name *stochastic*.\n",
        "\n",
        "    *  Minibatches sizes depend on available GPU hardware. We can also compute the gradient of the loss function for each example in parallel; GPUs allow us to process hundreds of inputs in scarcely more time than it might take to process just a single sample.\n",
        "\n",
        "* Since this process is so fundamental to training machine learning algorithms,\n",
        "it is worth defining a utility function to shuffle the dataset and access it in mini-batches.\n",
        "\n",
        "    * In the following code, we define the **`data_iter` function** to demonstrate one possible implementation of this functionality. The function takes a **batch size, a matrix of features, and a vector of labels, yielding mini-batches of the size `batch_size.`**\n"
      ]
    },
    {
      "cell_type": "markdown",
      "metadata": {
        "id": "m4M0m4ONFjIE"
      },
      "source": [
        "### Code: Some python background about iterators, generators\n",
        "\n",
        "* An iterator in Python is an object that contains a finite number of elements that can be iterated upon, i.e. go through the ordered collection  one element at a time.\n",
        "\n",
        "* A generator is a special type of function which returns an iterator object.  *It can be run only once*."
      ]
    },
    {
      "cell_type": "code",
      "metadata": {
        "colab": {
          "base_uri": "https://localhost:8080/"
        },
        "id": "U7AHd6rgF4lC",
        "outputId": "52ad92fe-fff1-4a38-9837-cb10ec410ece"
      },
      "source": [
        "'''\n",
        "Some python background about iterators, generators, and yield that we will use.\n",
        "Example taken from https://stackoverflow.com/questions/231767/what-does-the-yield-keyword-do\n",
        "'''\n",
        "mylist = [1, 2, 3]\n",
        "for i in mylist:\n",
        "    print(i)"
      ],
      "execution_count": 7,
      "outputs": [
        {
          "output_type": "stream",
          "name": "stdout",
          "text": [
            "1\n",
            "2\n",
            "3\n"
          ]
        }
      ]
    },
    {
      "cell_type": "code",
      "metadata": {
        "colab": {
          "base_uri": "https://localhost:8080/"
        },
        "id": "itZOWPXvElME",
        "outputId": "11fcfbee-aa5a-4427-c595-0d22dbbbb524"
      },
      "source": [
        "# --------Iterator object--------------------\n",
        "# An iterator in Python is an object that contains a finite number of\n",
        "# elements that can be iterated upon, i.e. go through the ordered collection\n",
        "# one element at a time.\n",
        "\n",
        "print('Iterator output (first run):')\n",
        "mylist = [x*x for x in range(3)]\n",
        "for i in mylist:\n",
        "    print(i)\n",
        "\n",
        "print('Iterator output (second run):')\n",
        "for i in mylist:\n",
        "    print(i)\n"
      ],
      "execution_count": 8,
      "outputs": [
        {
          "output_type": "stream",
          "name": "stdout",
          "text": [
            "Iterator output (first run):\n",
            "0\n",
            "1\n",
            "4\n",
            "Iterator output (second run):\n",
            "0\n",
            "1\n",
            "4\n"
          ]
        }
      ]
    },
    {
      "cell_type": "code",
      "metadata": {
        "colab": {
          "base_uri": "https://localhost:8080/"
        },
        "id": "YN9mgDLwEr3U",
        "outputId": "de138402-3d97-4284-8f81-3a8710626ebe"
      },
      "source": [
        "# ---------Generator object--------------------\n",
        "# A generator is a special type of function which returns an iterator object.\n",
        "# Can be run only once.\n",
        "\n",
        "mygenerator = (x*x for x in range(3))\n",
        "\"note the use of parenthesis instead of brackets\"\n",
        "print('Mygenerator created using yield is:', mygenerator) # mygenerator is an object!\n",
        "\n",
        "print('Generator output (first run):')\n",
        "for i in mygenerator:\n",
        "    print(i)\n",
        "\n",
        "print('Generator output (second run):')\n",
        "for i in mygenerator:\n",
        "    print(i)"
      ],
      "execution_count": 9,
      "outputs": [
        {
          "output_type": "stream",
          "name": "stdout",
          "text": [
            "Mygenerator created using yield is: <generator object <genexpr> at 0x7f74a032c4a0>\n",
            "Generator output (first run):\n",
            "0\n",
            "1\n",
            "4\n",
            "Generator output (second run):\n"
          ]
        }
      ]
    },
    {
      "cell_type": "code",
      "metadata": {
        "colab": {
          "base_uri": "https://localhost:8080/"
        },
        "id": "jxNVbCg6Eu_G",
        "outputId": "c4c8cf34-0519-4d74-c42c-c7e2d78d3d9d"
      },
      "source": [
        "#-----------Yield returns generator object--------\n",
        "# In a generator function, a \"yield\" statement is used rather than a \"return\" statement.\n",
        "# You use generators to create your own iterators.\n",
        "# Can be run only once.\n",
        "\n",
        "def create_generator():\n",
        "    mylist = range(3)\n",
        "    for i in mylist:\n",
        "        yield i*i\n",
        "\n",
        "mygenerator = create_generator() # create a generator\n",
        "print('Mygenerator created using yield is:', mygenerator) # mygenerator is an object!\n",
        "for i in mygenerator:\n",
        "    print(i)\n",
        "\n",
        "print('Mygenerator created using yield is (second run):', mygenerator) # mygenerator is an object!\n",
        "for i in mygenerator:\n",
        "    print(i)\n"
      ],
      "execution_count": 10,
      "outputs": [
        {
          "output_type": "stream",
          "name": "stdout",
          "text": [
            "Mygenerator created using yield is: <generator object create_generator at 0x7f74a02e8ac0>\n",
            "0\n",
            "1\n",
            "4\n",
            "Mygenerator created using yield is (second run): <generator object create_generator at 0x7f74a02e8ac0>\n"
          ]
        }
      ]
    },
    {
      "cell_type": "markdown",
      "metadata": {
        "id": "-o9v1HNoBCd3"
      },
      "source": [
        "### Code: `data_iter` over randomized minibatches"
      ]
    },
    {
      "cell_type": "code",
      "metadata": {
        "origin_pos": 13,
        "tab": [
          "pytorch"
        ],
        "id": "0wdEZkZ1leRg",
        "colab": {
          "base_uri": "https://localhost:8080/",
          "height": 36
        },
        "outputId": "51eb7de0-17b2-4a59-caa2-c52e1c479982"
      },
      "source": [
        "import numpy as np\n",
        "\n",
        "# Generator function over the data\n",
        "def data_iter (batch_size, features, labels):\n",
        "    num_examples = features.shape[0]\n",
        "    # We randomly shuffle the data in the beginning so breakup any bias induced due to order of data\n",
        "    indices = np.random.permutation (num_examples)\n",
        "    for i in range(0, num_examples, batch_size):\n",
        "        batch_indices = torch.tensor(indices[i:min(i + batch_size, num_examples)])\n",
        "        yield features[batch_indices], labels[batch_indices]\n",
        "\" notice yield above\""
      ],
      "execution_count": 11,
      "outputs": [
        {
          "output_type": "execute_result",
          "data": {
            "text/plain": [
              "' notice yield above'"
            ],
            "application/vnd.google.colaboratory.intrinsic+json": {
              "type": "string"
            }
          },
          "metadata": {},
          "execution_count": 11
        }
      ]
    },
    {
      "cell_type": "markdown",
      "metadata": {
        "origin_pos": 15,
        "id": "-Pnl_waBleRi"
      },
      "source": [
        "* To build some intuition, let us read and print\n",
        "the first small batch of data examples.\n",
        "The shape of the features in each minibatch tells us\n",
        "both the minibatch size and the number of input features.\n",
        "Likewise, our minibatch of labels will have a shape given by `batch_size`.\n",
        "\n",
        "\n",
        "* As we run the iteration, we obtain distinct mini-batches\n",
        "successively until the entire dataset has been exhausted (try this).\n",
        "\n",
        "\n",
        "* This method works but is inefficient, requiring that we load all the data in memory and perform lots of random memory access. **The built-in iterators implemented in a deep learning framework are considerably more efficient and can deal with data stored in files and data fed via data streams.** We will get introduced to them later.\n",
        "\n"
      ]
    },
    {
      "cell_type": "code",
      "metadata": {
        "origin_pos": 16,
        "tab": [
          "pytorch"
        ],
        "id": "EPfwb4-LleRj",
        "colab": {
          "base_uri": "https://localhost:8080/"
        },
        "outputId": "9c8f5e5c-83b1-46c1-84cd-bfaab6828561"
      },
      "source": [
        "batch_size = 11\n",
        "# print first batch and then exit.\n",
        "i = 1\n",
        "for X, y in data_iter(batch_size, features, labels):\n",
        "    print(i, X.size())\n",
        "    i = i+1\n"
      ],
      "execution_count": 12,
      "outputs": [
        {
          "output_type": "stream",
          "name": "stdout",
          "text": [
            "1 torch.Size([11, 2])\n",
            "2 torch.Size([11, 2])\n",
            "3 torch.Size([11, 2])\n",
            "4 torch.Size([11, 2])\n",
            "5 torch.Size([11, 2])\n",
            "6 torch.Size([11, 2])\n",
            "7 torch.Size([11, 2])\n",
            "8 torch.Size([11, 2])\n",
            "9 torch.Size([11, 2])\n",
            "10 torch.Size([11, 2])\n",
            "11 torch.Size([11, 2])\n",
            "12 torch.Size([11, 2])\n",
            "13 torch.Size([11, 2])\n",
            "14 torch.Size([11, 2])\n",
            "15 torch.Size([11, 2])\n",
            "16 torch.Size([11, 2])\n",
            "17 torch.Size([11, 2])\n",
            "18 torch.Size([11, 2])\n",
            "19 torch.Size([11, 2])\n",
            "20 torch.Size([11, 2])\n",
            "21 torch.Size([11, 2])\n",
            "22 torch.Size([11, 2])\n",
            "23 torch.Size([11, 2])\n",
            "24 torch.Size([11, 2])\n",
            "25 torch.Size([11, 2])\n",
            "26 torch.Size([11, 2])\n",
            "27 torch.Size([11, 2])\n",
            "28 torch.Size([11, 2])\n",
            "29 torch.Size([11, 2])\n",
            "30 torch.Size([11, 2])\n",
            "31 torch.Size([11, 2])\n",
            "32 torch.Size([11, 2])\n",
            "33 torch.Size([11, 2])\n",
            "34 torch.Size([11, 2])\n",
            "35 torch.Size([11, 2])\n",
            "36 torch.Size([11, 2])\n",
            "37 torch.Size([11, 2])\n",
            "38 torch.Size([11, 2])\n",
            "39 torch.Size([11, 2])\n",
            "40 torch.Size([11, 2])\n",
            "41 torch.Size([11, 2])\n",
            "42 torch.Size([11, 2])\n",
            "43 torch.Size([11, 2])\n",
            "44 torch.Size([11, 2])\n",
            "45 torch.Size([11, 2])\n",
            "46 torch.Size([11, 2])\n",
            "47 torch.Size([11, 2])\n",
            "48 torch.Size([11, 2])\n",
            "49 torch.Size([11, 2])\n",
            "50 torch.Size([11, 2])\n",
            "51 torch.Size([11, 2])\n",
            "52 torch.Size([11, 2])\n",
            "53 torch.Size([11, 2])\n",
            "54 torch.Size([11, 2])\n",
            "55 torch.Size([11, 2])\n",
            "56 torch.Size([11, 2])\n",
            "57 torch.Size([11, 2])\n",
            "58 torch.Size([11, 2])\n",
            "59 torch.Size([11, 2])\n",
            "60 torch.Size([11, 2])\n",
            "61 torch.Size([11, 2])\n",
            "62 torch.Size([11, 2])\n",
            "63 torch.Size([11, 2])\n",
            "64 torch.Size([11, 2])\n",
            "65 torch.Size([11, 2])\n",
            "66 torch.Size([11, 2])\n",
            "67 torch.Size([11, 2])\n",
            "68 torch.Size([11, 2])\n",
            "69 torch.Size([11, 2])\n",
            "70 torch.Size([11, 2])\n",
            "71 torch.Size([11, 2])\n",
            "72 torch.Size([11, 2])\n",
            "73 torch.Size([11, 2])\n",
            "74 torch.Size([11, 2])\n",
            "75 torch.Size([11, 2])\n",
            "76 torch.Size([11, 2])\n",
            "77 torch.Size([11, 2])\n",
            "78 torch.Size([11, 2])\n",
            "79 torch.Size([11, 2])\n",
            "80 torch.Size([11, 2])\n",
            "81 torch.Size([11, 2])\n",
            "82 torch.Size([11, 2])\n",
            "83 torch.Size([11, 2])\n",
            "84 torch.Size([11, 2])\n",
            "85 torch.Size([11, 2])\n",
            "86 torch.Size([11, 2])\n",
            "87 torch.Size([11, 2])\n",
            "88 torch.Size([11, 2])\n",
            "89 torch.Size([11, 2])\n",
            "90 torch.Size([11, 2])\n",
            "91 torch.Size([10, 2])\n"
          ]
        }
      ]
    },
    {
      "cell_type": "markdown",
      "metadata": {
        "origin_pos": 17,
        "id": "lptGUv1yleRk"
      },
      "source": [
        "## Initializing model parameters\n",
        "\n",
        "**Before we can begin optimizing our model's parameters** by minibatch stochastic gradient descent, (**we need to have some parameters in the first place.**). In the following code, we initialize weights by sampling random numbers from a normal distribution with a mean of 0 and a standard deviation of 0.01 and setting the bias to 0.\n"
      ]
    },
    {
      "cell_type": "markdown",
      "metadata": {
        "id": "8sWckmB9hFrY"
      },
      "source": [
        "### Code: Initialize parameters (`w, b`)"
      ]
    },
    {
      "cell_type": "code",
      "metadata": {
        "origin_pos": 19,
        "tab": [
          "pytorch"
        ],
        "id": "vQBOJlKSleRl",
        "colab": {
          "base_uri": "https://localhost:8080/"
        },
        "outputId": "c8de2f7e-cd58-46fe-c4d4-d55690a7404e"
      },
      "source": [
        "w = torch.normal(0, 0.01, size=(2, 1), requires_grad=True)\n",
        "b = torch.zeros(1, requires_grad=True)\n",
        "print('weights:\\n', w, '\\nb=\\n', b)"
      ],
      "execution_count": 13,
      "outputs": [
        {
          "output_type": "stream",
          "name": "stdout",
          "text": [
            "weights:\n",
            " tensor([[-0.0184],\n",
            "        [ 0.0141]], requires_grad=True) \n",
            "b=\n",
            " tensor([0.], requires_grad=True)\n"
          ]
        }
      ]
    },
    {
      "cell_type": "markdown",
      "metadata": {
        "id": "ggL2jabTTldk"
      },
      "source": [
        "* After initializing our parameters, our next task is to update them until they fit our data sufficiently well.\n",
        "\n",
        "* Each update requires taking the gradient of our loss function with respect to the parameters.\n",
        "\n",
        "* To compute gradients explicitly, we use automatic differentiation to compute the gradient.\n"
      ]
    },
    {
      "cell_type": "markdown",
      "metadata": {
        "origin_pos": 21,
        "id": "c469aNSjleRl"
      },
      "source": [
        "## Defining the Model\n",
        "\n",
        "* Next, we must **define our model, relating its inputs and parameters to its outputs.**\n",
        "\n",
        "* To calculate the output of the linear model, we take the matrix-vector dot product of the input features $\\mathbf{X}$ and the model weights $\\mathbf{w}$, and add the offset $b$ to each example.\n",
        "\n",
        "* The product $\\mathbf{Xw}$  is a vector, and $b$ is a scalar.\n",
        "    * We will use the *broadcasting* feature to add the scalar.\n"
      ]
    },
    {
      "cell_type": "markdown",
      "metadata": {
        "id": "bYSVVLHK9aQG"
      },
      "source": [
        "![image.png](data:image/png;base64,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)"
      ]
    },
    {
      "cell_type": "markdown",
      "metadata": {
        "id": "zkJDTKFhUthw"
      },
      "source": [
        "### Code: `linreg`: The linear regression model"
      ]
    },
    {
      "cell_type": "code",
      "metadata": {
        "origin_pos": 22,
        "tab": [
          "pytorch"
        ],
        "id": "sujiqus-leRl"
      },
      "source": [
        "def linreg(X, w, b):\n",
        "    \"\"\"The linear regression model.\"\"\"\n",
        "    # X is N by d, where N is the number of data elements, d is the dimension of the data\n",
        "    # w is a d by 1 vector of parameters\n",
        "    return torch.matmul(X, w) + b"
      ],
      "execution_count": 14,
      "outputs": []
    },
    {
      "cell_type": "markdown",
      "metadata": {
        "origin_pos": 23,
        "id": "Y7qEJAEaleRm"
      },
      "source": [
        "## Defining the Loss Function\n",
        "\n",
        "* Since updating our model requires taking the gradient of our loss function, we ought to (**define the loss function next**)\n",
        "\n",
        "* We will use the **squared loss** function (**squared residuals**)\n",
        "\n",
        "* Note that we do **not** sum the residuals yet. The function returns the residuals for **each** data point of the input.\n",
        "\n",
        "* Some python implementation issue: although both `y` and `y_hat` are just a vector of numbers, they might be represented as 1D ($[n]$ sized) or as 2D ($[n,1]$ sized) arrays. We have to reshape one to fit the other.\n",
        "\n",
        "* The result returned by the following function will also have the same shape as `y_hat`.\n",
        "\n"
      ]
    },
    {
      "cell_type": "markdown",
      "metadata": {
        "id": "g_da04EUhU7P"
      },
      "source": [
        "### Code: `squared_loss` function"
      ]
    },
    {
      "cell_type": "code",
      "metadata": {
        "origin_pos": 24,
        "tab": [
          "pytorch"
        ],
        "id": "2I_CFWlZleRn"
      },
      "source": [
        "def squared_loss(y_hat, y):\n",
        "    \"\"\"Squared loss.\"\"\"\n",
        "    # although both y and y_hat are just a vector of numbers,\n",
        "    # they might be represented as [n] or as [n,1] arrays.\n",
        "    # that is what we have to reshape one to fit the other.\n",
        "    # Another option would have been to squeeze out the \"1\" dimension\n",
        "    return (y_hat - y.reshape(y_hat.shape))**2 / 2"
      ],
      "execution_count": 15,
      "outputs": []
    },
    {
      "cell_type": "markdown",
      "metadata": {
        "origin_pos": 25,
        "id": "iwxYBKOdleRn"
      },
      "source": [
        "## Stochastic gradient descent -- the optimization algorithm\n",
        "\n",
        "* For each minibatch of `batch_size`,\n",
        "\n",
        "    1. Estimate the gradient of the loss with respect to our parameters.\n",
        "    2. Update the parameters (`params`) in the direction that may reduce the loss based on a learning rate (`lr`). Because we calculate our loss as a sum over the minibatch of examples, we normalize our step size by the batch size (`batch_size`), so that the magnitude of a typical step size\n",
        "does not depend heavily on our choice of the batch size."
      ]
    },
    {
      "cell_type": "markdown",
      "metadata": {
        "id": "cubF2iRnhcbd"
      },
      "source": [
        "###Code: `stochastic_gradient_descent` function"
      ]
    },
    {
      "cell_type": "code",
      "metadata": {
        "origin_pos": 27,
        "tab": [
          "pytorch"
        ],
        "id": "DIpuIjQileRn"
      },
      "source": [
        "def stochastic_gradient_descent (params, lr):\n",
        "    \"\"\"Minibatch stochastic gradient descent.\"\"\"\n",
        "    with torch.no_grad():\n",
        "        for param in params:\n",
        "            param -= lr * param.grad\n",
        "            param.grad.zero_()"
      ],
      "execution_count": 16,
      "outputs": []
    },
    {
      "cell_type": "markdown",
      "metadata": {
        "origin_pos": 29,
        "id": "bDM_pedOleRo"
      },
      "source": [
        "## Training\n",
        "\n",
        "* Now that we have all the parts in place, we are ready **to implement the main training loop**.\n",
        "\n",
        "* It is crucial that you understand this code because you will see nearly identical training loops repeatedly throughout your career in deep learning.\n",
        "\n",
        "* Initialize parameters $(\\mathbf{w}, b)$\n",
        "* At each iteration over the mini-batches of the *entire* dataset\n",
        "    1. We will grab a minibatch of training examples,\n",
        "    2. Pass minibatch through the model to obtain a set of predictions.\n",
        "    3. Calculate the loss,\n",
        "    3. Compute gradient $\\mathbf{g} \\leftarrow \\partial_{(\\mathbf{w},b)} \\frac{1}{|\\mathcal{B}|} \\sum_{i \\in \\mathcal{B}} l(\\mathbf{x}^{(i)}, y^{(i)}, \\mathbf{w}, b)$\n",
        "        * Initiate the backward pass through the network, computing and storing the gradients with respect to each parameter.\n",
        "    5. Call `stochastic_gradient_descent` to update the model parameters.\n",
        "        * Update parameters $(\\mathbf{w}, b) \\leftarrow (\\mathbf{w}, b) - \\eta \\mathbf{g}$\n",
        "\n",
        "* Each pass (using the `data_iter` function) through the dataset is called one **epoch**. To optimize, we need **multiple epochs**\n",
        "\n",
        "* The number of epochs `num_epochs` and the learning rate `lr` are both **hyperparameters**, which we set here to 3 and 0.03, respectively.\n",
        "\n",
        "* Unfortunately, setting hyperparameters is tricky.\n",
        "Moreover, it requires some adjustment by trial and error.\n"
      ]
    },
    {
      "cell_type": "markdown",
      "metadata": {
        "id": "8yLvIxWmfPrc"
      },
      "source": [
        "###Code: Training"
      ]
    },
    {
      "cell_type": "code",
      "metadata": {
        "origin_pos": 30,
        "tab": [
          "pytorch"
        ],
        "id": "XlUvPlhcleRo",
        "colab": {
          "base_uri": "https://localhost:8080/"
        },
        "outputId": "476fdfac-02b9-42e9-9365-424961e46dbc"
      },
      "source": [
        "lr = 0.03 # learning rate\n",
        "num_epochs = 10 # number of passes through the entire dataset\n",
        "batch_size = 10\n",
        "net = linreg\n",
        "loss = squared_loss\n",
        "print('Initial w=\\n', w, '\\nInitial b=\\n', b)\n",
        "print('True w=\\n', true_w, '\\nTrue b=\\n', true_b)\n"
      ],
      "execution_count": 17,
      "outputs": [
        {
          "output_type": "stream",
          "name": "stdout",
          "text": [
            "Initial w=\n",
            " tensor([[-0.0184],\n",
            "        [ 0.0141]], requires_grad=True) \n",
            "Initial b=\n",
            " tensor([0.], requires_grad=True)\n",
            "True w=\n",
            " tensor([ 2.0000, -3.4000]) \n",
            "True b=\n",
            " 4.2\n"
          ]
        }
      ]
    },
    {
      "cell_type": "code",
      "metadata": {
        "origin_pos": 32,
        "tab": [
          "pytorch"
        ],
        "id": "8aGqIgDwleRp",
        "colab": {
          "base_uri": "https://localhost:8080/"
        },
        "outputId": "6a4567c0-e6e6-4450-d1e4-c518c5755f9b"
      },
      "source": [
        "for epoch in range(num_epochs):\n",
        "    for X, y in data_iter(batch_size, features, labels):\n",
        "        l = loss(net(X, w, b), y)  # Minibatch loss in `X` and `y`\n",
        "        # Compute gradient on `l` with respect to [`w`, `b`]\n",
        "\n",
        "        l.mean().backward()\n",
        "\n",
        "        stochastic_gradient_descent([w, b], lr)  # Update parameters using their gradient\n",
        "\n",
        "    with torch.no_grad():\n",
        "        train_l = loss(net(features, w, b), labels)\n",
        "        #print('\\nw=\\n', w, '\\nb=\\n', b)\n",
        "        print(f'epoch {epoch + 1}, w= {w.numpy().transpose()}, b= {b.numpy()}, loss {float(train_l.mean()):f}',)\n"
      ],
      "execution_count": 18,
      "outputs": [
        {
          "output_type": "stream",
          "name": "stdout",
          "text": [
            "epoch 1, w= [[ 1.8890538 -3.2162254]], b= [3.9887428], loss 0.043835\n",
            "epoch 2, w= [[ 1.9938967 -3.3900938]], b= [4.188844], loss 0.000174\n",
            "epoch 3, w= [[ 1.9995317 -3.3994713]], b= [4.1996026], loss 0.000049\n",
            "epoch 4, w= [[ 2.000099  -3.4001048]], b= [4.1999784], loss 0.000048\n",
            "epoch 5, w= [[ 1.9998661 -3.400308 ]], b= [4.2000027], loss 0.000048\n",
            "epoch 6, w= [[ 2.0002007 -3.4000282]], b= [4.1998496], loss 0.000048\n",
            "epoch 7, w= [[ 1.9997457 -3.399725 ]], b= [4.200024], loss 0.000048\n",
            "epoch 8, w= [[ 2.0004876 -3.4004023]], b= [4.199948], loss 0.000048\n",
            "epoch 9, w= [[ 2.0003517 -3.399966 ]], b= [4.2000947], loss 0.000048\n",
            "epoch 10, w= [[ 1.9999834 -3.4000041]], b= [4.199904], loss 0.000048\n"
          ]
        }
      ]
    },
    {
      "cell_type": "markdown",
      "metadata": {
        "origin_pos": 34,
        "id": "3cP_8-7QleRq"
      },
      "source": [
        "In this case, because we synthesized the dataset ourselves, we precisely know the true parameters. Thus, we can **evaluate our success in training by comparing the true parameters with those that we learned** through our training loop. Indeed they turn out to be very close to each other.\n"
      ]
    },
    {
      "cell_type": "code",
      "metadata": {
        "origin_pos": 35,
        "tab": [
          "pytorch"
        ],
        "id": "OXw7O_sdleRq",
        "colab": {
          "base_uri": "https://localhost:8080/"
        },
        "outputId": "adfb022b-2e7e-4683-a2d7-c548b310f285"
      },
      "source": [
        "print(f'error in estimating w: {true_w - w.reshape(true_w.shape)}')\n",
        "print(f'error in estimating b: {true_b - b}')"
      ],
      "execution_count": 19,
      "outputs": [
        {
          "output_type": "stream",
          "name": "stdout",
          "text": [
            "error in estimating w: tensor([1.6570e-05, 4.0531e-06], grad_fn=<SubBackward0>)\n",
            "error in estimating b: tensor([9.5844e-05], grad_fn=<RsubBackward1>)\n"
          ]
        }
      ]
    },
    {
      "cell_type": "markdown",
      "metadata": {
        "origin_pos": 36,
        "id": "beQUGGAHleRr"
      },
      "source": [
        "* Note that we should not take it for granted that we can recover the parameters perfectly. However, in machine learning, we are typically less concerned with recovering true underlying parameters and more concerned with parameters that lead to highly accurate predictions. Fortunately, even on complex optimization problems, stochastic gradient descent can often find remarkably good solutions, owing partly to the fact that, for deep networks, there exist many configurations of the parameters that lead to highly accurate predictions.\n"
      ]
    },
    {
      "cell_type": "markdown",
      "source": [
        "# Backpropagation and Gradient Descent\n",
        "\n",
        "Here we will understand the details of backpropagation and gradient descent and work out a simple numerical example by hand.\n",
        "\n"
      ],
      "metadata": {
        "id": "3CShLk7550Wt"
      }
    },
    {
      "cell_type": "markdown",
      "source": [
        "\n",
        "\n",
        "## Model Definition\n",
        "\n",
        "Let's consider the linear model $\\mathbf{y}= \\mathbf{X} \\mathbf{w}$, which has no bias. The variables $\\mathbf{X}$ and $\\mathbf{w}$, and $\\mathbf{y}$ have the values as shown below:\n",
        "\n",
        "  \\begin{align}\n",
        "    \\mathbf{X} = \\begin{bmatrix}\n",
        "           2 & 1\\\\\n",
        "         \\end{bmatrix}, \\quad\n",
        "    \\mathbf{w} = \\begin{bmatrix}\n",
        "           1 \\\\\n",
        "           3 \\\\\n",
        "         \\end{bmatrix}, \\quad\n",
        "    \\mathbf{y} = \\begin{bmatrix}\n",
        "           8 \\\\\n",
        "         \\end{bmatrix}\n",
        "  \\end{align}\n",
        "\n",
        "\n",
        "\n",
        "The model can be plotted as follows:\n",
        "\n",
        "![model](https://drive.google.com/uc?export=view&id=1Vy2BK8VhySZPWt2VAVYHEYu9OIKbVrwv)\n",
        "\n"
      ],
      "metadata": {
        "id": "VkLOZUf06VeT"
      }
    },
    {
      "cell_type": "code",
      "source": [
        "# define input x and output label y\n",
        "x = torch.tensor([[2.0, 1.0]])\n",
        "y = torch.tensor([[8.0]])\n",
        "\n",
        "# define the linear model\n",
        "model = nn.Linear(2, 1, bias=False)\n",
        "model.weight.data = torch.tensor([[1.0, 3.0]])\n",
        "\n",
        "# print shapes\n",
        "print(x.shape, model.weight.data.shape, y.shape)"
      ],
      "metadata": {
        "colab": {
          "base_uri": "https://localhost:8080/"
        },
        "id": "TMLzYVwnAPKS",
        "outputId": "9bb524cf-06a5-406f-ad58-d67c7834e094"
      },
      "execution_count": 20,
      "outputs": [
        {
          "output_type": "stream",
          "name": "stdout",
          "text": [
            "torch.Size([1, 2]) torch.Size([1, 2]) torch.Size([1, 1])\n"
          ]
        }
      ]
    },
    {
      "cell_type": "markdown",
      "source": [
        "## Forward pass\n",
        "\n",
        "We first start by performing a forward pass through the model. **No gradients are calculated through the forward pass.**\n",
        "\n",
        "![Forward pass](https://drive.google.com/uc?export=view&id=1ijOSmhIPD46RDWjhYnSATzjbaV2CVHiZ)\n"
      ],
      "metadata": {
        "id": "n21QLUBgCQz5"
      }
    },
    {
      "cell_type": "code",
      "source": [
        "# Perform the forward pass\n",
        "a = model(x)\n",
        "a.retain_grad()\n",
        "\n",
        "# Calculate the loss\n",
        "loss = F.mse_loss(a, y)\n",
        "\n",
        "# Print values\n",
        "print(a, loss)"
      ],
      "metadata": {
        "colab": {
          "base_uri": "https://localhost:8080/"
        },
        "id": "ffR6IAPoDGa1",
        "outputId": "de7a2679-b1ee-4333-ddea-51a99e4d4b77"
      },
      "execution_count": 21,
      "outputs": [
        {
          "output_type": "stream",
          "name": "stdout",
          "text": [
            "tensor([[5.]], grad_fn=<MmBackward0>) tensor(9., grad_fn=<MseLossBackward0>)\n"
          ]
        }
      ]
    },
    {
      "cell_type": "markdown",
      "source": [
        "## Backward pass\n",
        "\n",
        "* The goal is to use the values calculated in the forward pass to calculate the gradients w.r.t the weights $\\textbf{w}$.\n",
        "* We want to find the gradients $\\frac{\\partial \\mathcal{L}}{\\partial \\boldsymbol{w1}}$ and $\\frac{\\partial \\mathcal{L}}{\\partial \\boldsymbol{w2}}$. This is where the chain rule comes in:\n",
        "\n",
        "\\begin{equation}\n",
        "\\frac{\\partial \\mathcal{L}}{\\partial \\boldsymbol{w}} = \\frac{\\partial \\mathcal{L}}{\\partial \\boldsymbol{a}} * \\frac{\\partial \\boldsymbol{a}}{\\partial \\boldsymbol{w}}\n",
        "\\end{equation}\n",
        "\n",
        "#### MSE gradient\n",
        "\n",
        "* The Mean Squared Error Loss is defined as $\\mathcal{L} = \\frac{1}{n} \\sum_{i=1}^{n} (\\boldsymbol{y}_i - \\boldsymbol{a}_i)^2$, For our case $n=1$, therefore the expression reduces to $\\mathcal{L} = (\\boldsymbol{y} - \\boldsymbol{a})^2$.\n",
        "* We can take the gradient:\n",
        "\n",
        "\\begin{equation}\n",
        "\\frac{\\partial \\mathcal{L}}{\\partial \\boldsymbol{a}} = 2(\\boldsymbol{y} - \\boldsymbol{a})(-1) = -2(\\boldsymbol{y} - \\boldsymbol{a})\n",
        "\\end{equation}\n",
        "\n",
        "#### Linear layer gradient\n",
        "* The linear layer for two independant variables $\\boldsymbol{x}_1, \\boldsymbol{x}_2$ and one dependant variable $\\boldsymbol{y}$ is calculated as $\\boldsymbol{a} = \\boldsymbol{x}_1 * \\boldsymbol{w}_1 + \\boldsymbol{x}_2 * \\boldsymbol{w}_2$.\n",
        "* We can take the gradients w.r.t the inputs:\n",
        "\n",
        "\\begin{equation}\n",
        "\\frac{\\partial \\mathcal{a}}{\\partial \\boldsymbol{w}_1} = \\boldsymbol{x}_1 ,\\quad\n",
        "\\frac{\\partial \\mathcal{a}}{\\partial \\boldsymbol{w}_2} = \\boldsymbol{x}_2\n",
        "\\end{equation}\n"
      ],
      "metadata": {
        "id": "B0EAnhL6Djay"
      }
    },
    {
      "cell_type": "markdown",
      "source": [
        "## Numerical gradient calculation\n",
        "\n",
        "\n",
        "![Backward pass](https://drive.google.com/uc?export=view&id=1oS6MC02yBlHzApPrKuvD0b_ri_Zjre1n)\n"
      ],
      "metadata": {
        "id": "y8feu4LhI7Vf"
      }
    },
    {
      "cell_type": "code",
      "source": [
        "# Backwards pass\n",
        "model.zero_grad()\n",
        "loss.backward()\n",
        "\n",
        "# print gradients on a\n",
        "print(a.grad)\n",
        "\n",
        "# print gradients on w\n",
        "print(model.weight.grad)"
      ],
      "metadata": {
        "colab": {
          "base_uri": "https://localhost:8080/"
        },
        "id": "uXe88jglLxYr",
        "outputId": "ad64ea34-86f6-4cc3-fde5-9af9855385ac"
      },
      "execution_count": 22,
      "outputs": [
        {
          "output_type": "stream",
          "name": "stdout",
          "text": [
            "tensor([[-6.]])\n",
            "tensor([[-12.,  -6.]])\n"
          ]
        }
      ]
    },
    {
      "cell_type": "markdown",
      "source": [
        "## But what does the gradient really mean?\n",
        "$$\\require{cancel}$$\n",
        "\n",
        "Consider the gradient of $\\mathcal{L}$ w.r.t. $\\boldsymbol{a}$ (i.e., $\\frac{\\partial \\mathcal{L}}{\\partial \\boldsymbol{a}}$). We know from calculus that the derivative is defined as:\n",
        "\n",
        "\\begin{equation}\n",
        "\\lim_{h \\to 0} \\frac{f(\\boldsymbol{a}+h)-f(\\boldsymbol{a})}{h}\n",
        "\\end{equation}\n",
        "\n",
        "This means that if we add a small value to $\\boldsymbol{a}$, the final result of the main function will be proportional to the gradient. Therefore:\n",
        "\n",
        "\\begin{equation}\n",
        "\\frac{\\partial \\mathcal{L}}{\\partial \\boldsymbol{a}} = \\frac{\\Delta \\mathcal{L}}{\\Delta \\boldsymbol{a}} = \\frac{L(a+h,y) - L(a,y)}{(\\cancel{a}+h)-\\cancel{a}}\n",
        "\\end{equation}\n",
        "\n",
        "When we substitute the values we have and the function definition of mean squared error, we get:\n",
        "\n",
        "\\begin{equation}\n",
        "\\frac{(y-(a+h))^2 - (y-a)^2}{h} = \\frac{(8-(5+0.0001))^2-(8-5)^2}{0.0001} = \\frac{-0.0006}{0.0001} = -6\n",
        "\\end{equation}\n",
        "\n",
        "So changing $\\boldsymbol{a}$ by a small amount of $-0.0001$ changes the Loss function $\\mathcal{L}$ by the amount $0.0006$. **The ratio is the gradient**."
      ],
      "metadata": {
        "id": "DOYiDr6n9TzO"
      }
    },
    {
      "cell_type": "markdown",
      "source": [
        "## Updating the model weights\n",
        "\n",
        "### SGD Optimizer\n",
        "* The SGD optimizer applies the gradient multiplied by a learning rate:\n",
        "\n",
        "\\begin{equation}\n",
        "\\boldsymbol{w}_1 = \\boldsymbol{w}_1 - lr * \\frac{\\partial \\mathcal{L}}{\\partial \\boldsymbol{w}_1} = 1.0 - (1.0*-12.0) = 13.0 \\\\\n",
        "\\boldsymbol{w}_2 = \\boldsymbol{w}_2 - lr * \\frac{\\partial \\mathcal{L}}{\\partial \\boldsymbol{w}_2} = 3.0 - (1.0*-6.0) = 9.0\n",
        "\\end{equation}"
      ],
      "metadata": {
        "id": "5sGxo809M9Pf"
      }
    },
    {
      "cell_type": "code",
      "source": [
        "# define and step optimizer\n",
        "optimizer = torch.optim.SGD(model.parameters(), lr=1.0)\n",
        "optimizer.step()\n",
        "\n",
        "# print new weights\n",
        "print(model.weight.data)"
      ],
      "metadata": {
        "colab": {
          "base_uri": "https://localhost:8080/"
        },
        "id": "fyicI18QN4Ez",
        "outputId": "1f6e7faf-37d7-4713-dfef-d3524ce87d99"
      },
      "execution_count": 23,
      "outputs": [
        {
          "output_type": "stream",
          "name": "stdout",
          "text": [
            "tensor([[13.,  9.]])\n"
          ]
        }
      ]
    },
    {
      "cell_type": "markdown",
      "metadata": {
        "id": "3SPENOIgiNbF"
      },
      "source": [
        "## Summary\n",
        "\n",
        "* We saw how a deep network could be implemented and optimized from scratch, using just tensors and auto differentiation.\n",
        "\n",
        "* We manually performed a single forward and backward pass.\n",
        "\n",
        "* This section only scratches the surface of what is possible. In the following sections, we will describe additional models based on the concepts we have just introduced and learn how to implement them more concisely.\n"
      ]
    },
    {
      "cell_type": "markdown",
      "metadata": {
        "id": "4nueC0ADiPoQ"
      },
      "source": [
        "# Assignment\n",
        "\n",
        "1. Why is the `reshape` function needed in the `squared_loss` function? Try removing the `reshape` function and see.\n",
        "2. What would happen if we were to initialize the weights to zero. Would the algorithm still work? Report the results with zero-initialization and compare with random.\n",
        "3. Experiment with 3 different learning rates to find out how fast the loss function value drops.\n",
        "4. If the number of examples cannot be divided by the batch size, what happens to the `data_iter` function's behavior?\n",
        "5. What happens when we use a larger $\\Delta h$ at the calculated gradient? Does the gradient still hold?\n",
        "6. Does this affect the choice of learning rate for the optimizer?\n",
        "7. What is the **optimal** value of the learning rate?"
      ]
    }
  ]
}